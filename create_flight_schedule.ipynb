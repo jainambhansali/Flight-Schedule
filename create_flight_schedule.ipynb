{
 "cells": [
  {
   "cell_type": "code",
   "execution_count": 19,
   "metadata": {
    "collapsed": true
   },
   "outputs": [],
   "source": [
    "# Initializing the tuple tails having values of all Aircrafts\n",
    "tails = ('T1','T2','T3','T4','T5','T6')"
   ]
  },
  {
   "cell_type": "code",
   "execution_count": 20,
   "metadata": {
    "collapsed": true
   },
   "outputs": [],
   "source": [
    "# Initializing tuple name airport having values of three airports\n",
    "airport = ('AUS','DAL','HOU')"
   ]
  },
  {
   "cell_type": "code",
   "execution_count": 21,
   "metadata": {
    "collapsed": true
   },
   "outputs": [],
   "source": [
    "# Creating a Dictionary, having values of flight duration \n",
    "flight_time = {'AUSDAL':50, 'DALHOU':65, 'HOUAUS':45}"
   ]
  },
  {
   "cell_type": "code",
   "execution_count": 22,
   "metadata": {
    "collapsed": true
   },
   "outputs": [],
   "source": [
    "gates = ['AUS1','DAL1','DAL2','HOU1','HOU2','HOU3']"
   ]
  },
  {
   "cell_type": "code",
   "execution_count": 23,
   "metadata": {
    "collapsed": true
   },
   "outputs": [],
   "source": [
    "# Creating a dictionary having ground times for each airports\n",
    "ground_time = {'AUS':25, 'DAL':30, 'HOU':35 }"
   ]
  },
  {
   "cell_type": "code",
   "execution_count": 24,
   "metadata": {
    "collapsed": true
   },
   "outputs": [],
   "source": [
    "# Creating a function for converting civilian time into Military time\n",
    "def military_time(minutes):\n",
    "    if minutes < 720:\n",
    "        hrs = minutes // 60 \n",
    "        mins = minutes % 60\n",
    "        return(\"{0:02d}{1:02d}\".format(hrs, mins))\n",
    "    elif minutes == 720:\n",
    "        hrs = 1200\n",
    "        return(\"1200\")\n",
    "    else:\n",
    "        hrs = ((minutes-720) // 60) + 12\n",
    "        mins = (minutes) % 60\n",
    "        return(\"{0:02d}{1:02d}\".format(hrs, mins))"
   ]
  },
  {
   "cell_type": "code",
   "execution_count": 25,
   "metadata": {
    "collapsed": true
   },
   "outputs": [],
   "source": [
    "# Initialising an empty list flight_schedule\n",
    "flight_schedule = []"
   ]
  },
  {
   "cell_type": "code",
   "execution_count": 26,
   "metadata": {
    "collapsed": true
   },
   "outputs": [],
   "source": [
    "# Setting value of Departure Times for each Tail\n",
    "startAD = 406\n",
    "startDH = 360\n",
    "startDA = 360\n",
    "startHD = 360\n",
    "startHD1 = 360\n",
    "startHA = 420\n",
    "end = 1320"
   ]
  },
  {
   "cell_type": "code",
   "execution_count": 27,
   "metadata": {
    "collapsed": true
   },
   "outputs": [],
   "source": [
    "# Tail T1 from Austin to Dallas and Back\n",
    "while startAD < end:\n",
    "    ArrAD = startAD + flight_time['AUSDAL']\n",
    "    if ArrAD < end:\n",
    "        flight_schedule.append([tails[0],airport[0],airport[1],military_time(startAD),military_time(ArrAD)])\n",
    "        startAD = ArrAD + ground_time['DAL']\n",
    "        ArrAD = startAD + flight_time['AUSDAL']\n",
    "        flight_schedule.append([tails[0],airport[1],airport[0],military_time(startAD),military_time(ArrAD)])\n",
    "        startAD = ArrAD + ground_time['AUS']\n",
    "    else:\n",
    "        break"
   ]
  },
  {
   "cell_type": "code",
   "execution_count": 28,
   "metadata": {
    "collapsed": true
   },
   "outputs": [],
   "source": [
    "# Tail T2 from Dallas to Houston and Back\n",
    "while startDH < end:\n",
    "    ArrDH = startDH + flight_time['DALHOU']\n",
    "    if ArrDH < end:\n",
    "        flight_schedule.append([tails[1],airport[1],airport[2],military_time(startDH),military_time(ArrDH)])\n",
    "        startDH = ArrDH + ground_time['HOU']    \n",
    "        ArrDH = startDH + flight_time['DALHOU']\n",
    "        flight_schedule.append([tails[1],airport[2],airport[1],military_time(startDH),military_time(ArrDH)])\n",
    "        startDH = ArrDH + ground_time['DAL']\n",
    "    else:\n",
    "        break"
   ]
  },
  {
   "cell_type": "code",
   "execution_count": 29,
   "metadata": {
    "collapsed": true
   },
   "outputs": [],
   "source": [
    "# Tail T3 from Dallas to Austin and Back\n",
    "while startDA < end:\n",
    "    ArrDA = startDA + flight_time['AUSDAL']\n",
    "    if ArrDA < end:\n",
    "        flight_schedule.append([tails[2],airport[1],airport[0],military_time(startDA),military_time(ArrDA)])\n",
    "        startDA = ArrDA + ground_time['AUS']\n",
    "        ArrDA = startDA + flight_time['AUSDAL']\n",
    "        flight_schedule.append([tails[2],airport[0],airport[1],military_time(startDA),military_time(ArrDA)])\n",
    "        startDA = ArrDA + ground_time['DAL']\n",
    "    else:\n",
    "        break"
   ]
  },
  {
   "cell_type": "code",
   "execution_count": 30,
   "metadata": {
    "collapsed": true
   },
   "outputs": [],
   "source": [
    "# Tail T4 from Houston to Dallas and Back\n",
    "while startHD < end:\n",
    "    ArrHD = startHD + flight_time['DALHOU']\n",
    "    if ArrHD < end:\n",
    "        flight_schedule.append([tails[3],airport[2],airport[1],military_time(startHD),military_time(ArrHD)])\n",
    "        startHD = ArrHD + ground_time['DAL']\n",
    "        ArrHD = startHD + flight_time['DALHOU']\n",
    "        flight_schedule.append([tails[3],airport[1],airport[2],military_time(startHD),military_time(ArrHD)])\n",
    "        startHD = ArrHD + ground_time['HOU']\n",
    "    else:\n",
    "        break"
   ]
  },
  {
   "cell_type": "code",
   "execution_count": 31,
   "metadata": {
    "collapsed": true
   },
   "outputs": [],
   "source": [
    "# Tail T5 from Houston to Dallas and Back\n",
    "while startHD1 < end:\n",
    "    ArrHD1 = startHD1 + flight_time['DALHOU']\n",
    "    if ArrHD1 < end:\n",
    "        flight_schedule.append([tails[4],airport[2],airport[1],military_time(startHD1),military_time(ArrHD1)])\n",
    "        startHD1 = ArrHD1 + ground_time['DAL']\n",
    "        ArrHD1 = startHD1 + flight_time['DALHOU']\n",
    "        flight_schedule.append([tails[4],airport[1],airport[2],military_time(startHD1),military_time(ArrHD1)])\n",
    "        startHD1 = ArrHD1 + ground_time['HOU']\n",
    "    else:\n",
    "        break"
   ]
  },
  {
   "cell_type": "code",
   "execution_count": 32,
   "metadata": {
    "collapsed": true
   },
   "outputs": [],
   "source": [
    "# Tail T6 from Houston to Austin and Back\n",
    "while startHA < end:\n",
    "    ArrHA = startHA + flight_time['HOUAUS']\n",
    "    if ArrHA < end:\n",
    "        flight_schedule.append([tails[5],airport[2],airport[0],military_time(startHA),military_time(ArrHA)])\n",
    "        startHA = ArrHA + ground_time['AUS']\n",
    "        ArrHA = startHA + flight_time['HOUAUS']\n",
    "        flight_schedule.append([tails[5],airport[0],airport[2],military_time(startHA),military_time(ArrHA)])\n",
    "        startHA = ArrHA + ground_time['HOU']\n",
    "    else:\n",
    "        break"
   ]
  },
  {
   "cell_type": "code",
   "execution_count": 33,
   "metadata": {
    "collapsed": true
   },
   "outputs": [],
   "source": [
    "# Generating Headers for CSV file\n",
    "csv_header = 'tail_number,origin,destination,departure_time,arrival_time'"
   ]
  },
  {
   "cell_type": "code",
   "execution_count": 34,
   "metadata": {
    "collapsed": true
   },
   "outputs": [],
   "source": [
    "# Initializing the file name as flight_schedule.csv\n",
    "file_name = 'flight_schedule.csv'"
   ]
  },
  {
   "cell_type": "code",
   "execution_count": 35,
   "metadata": {
    "collapsed": true
   },
   "outputs": [],
   "source": [
    "# Defining a function for loading values into CSV file\n",
    "def print_flight_schedule(file_name, csv_header, flight_schedule): \n",
    "    with open(file_name,'wt') as f:\n",
    "        print(csv_header, file=f) \n",
    "        for s in flight_schedule:\n",
    "            print(','.join(s), file=f)"
   ]
  },
  {
   "cell_type": "code",
   "execution_count": 36,
   "metadata": {
    "collapsed": true
   },
   "outputs": [],
   "source": [
    "print_flight_schedule(file_name, csv_header, flight_schedule)"
   ]
  },
  {
   "cell_type": "code",
   "execution_count": null,
   "metadata": {
    "collapsed": true
   },
   "outputs": [],
   "source": []
  }
 ],
 "metadata": {
  "kernelspec": {
   "display_name": "Python 3",
   "language": "python",
   "name": "python3"
  },
  "language_info": {
   "codemirror_mode": {
    "name": "ipython",
    "version": 3
   },
   "file_extension": ".py",
   "mimetype": "text/x-python",
   "name": "python",
   "nbconvert_exporter": "python",
   "pygments_lexer": "ipython3",
   "version": "3.6.1"
  }
 },
 "nbformat": 4,
 "nbformat_minor": 2
}
